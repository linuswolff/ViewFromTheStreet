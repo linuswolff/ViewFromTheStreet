{
 "cells": [
  {
   "cell_type": "markdown",
   "metadata": {},
   "source": [
    "**Downloading Aerial Images using Google Maps Static API**"
   ]
  },
  {
   "cell_type": "code",
   "execution_count": 5,
   "metadata": {},
   "outputs": [],
   "source": [
    "import requests\n",
    "import pandas as pd\n",
    "from pathlib import Path\n",
    "import geopandas as gpd\n",
    "from tqdm import tqdm"
   ]
  },
  {
   "cell_type": "code",
   "execution_count": 2,
   "metadata": {},
   "outputs": [],
   "source": [
    "\n",
    "# Load the data\n",
    "data_path = Path('/Users/wolff/Desktop/delft_download/data/Rotterdam_NL')\n",
    "panoids = gpd.read_file(data_path / 'panoids/panoids.geojson')  # Assuming you have a CSV version of the file\n",
    "panoid_copy = panoids.copy()"
   ]
  },
  {
   "cell_type": "code",
   "execution_count": 16,
   "metadata": {},
   "outputs": [],
   "source": [
    "df = pd.read_csv('funda_all_cleaned_may_23.csv')\n",
    "#df = df.sample(10)"
   ]
  },
  {
   "cell_type": "code",
   "execution_count": 17,
   "metadata": {},
   "outputs": [
    {
     "data": {
      "text/plain": [
       "(6842, 26)"
      ]
     },
     "execution_count": 17,
     "metadata": {},
     "output_type": "execute_result"
    }
   ],
   "source": [
    "df.shape"
   ]
  },
  {
   "cell_type": "code",
   "execution_count": 19,
   "metadata": {},
   "outputs": [
    {
     "name": "stderr",
     "output_type": "stream",
     "text": [
      "Fetching images: 100%|██████████| 6842/6842 [25:52<00:00,  4.41it/s]"
     ]
    },
    {
     "name": "stdout",
     "output_type": "stream",
     "text": [
      "New dataframe saved to aerial_images_metadata.csv\n"
     ]
    },
    {
     "name": "stderr",
     "output_type": "stream",
     "text": [
      "\n"
     ]
    }
   ],
   "source": [
    "# Function to get aerial image from Google Maps Static API\n",
    "def get_aerial_image(lat, lng, zoom, api_key, save_path):\n",
    "    url = \"https://maps.googleapis.com/maps/api/staticmap\"\n",
    "    params = {\n",
    "        'center': f'{lat},{lng}',\n",
    "        'zoom': zoom,\n",
    "        'size': '600x600',\n",
    "        'maptype': 'satellite',\n",
    "        'key': api_key\n",
    "    }\n",
    "    response = requests.get(url, params=params)\n",
    "    if response.status_code == 200:\n",
    "        with open(save_path, 'wb') as file:\n",
    "            file.write(response.content)\n",
    "        return save_path\n",
    "    else:\n",
    "        print(f\"Failed to retrieve image for {lat}, {lng}. Status code: {response.status_code}\")\n",
    "        return None\n",
    "\n",
    "# Define your Google Maps API key\n",
    "api_key = 'xxx'\n",
    "\n",
    "# Specify the zoom level\n",
    "zoom_level = 18  # Adjust this zoom level as needed\n",
    "\n",
    "# Directory to save images\n",
    "image_save_path = data_path / 'aerial_images'\n",
    "image_save_path.mkdir(exist_ok=True)\n",
    "\n",
    "# List to store data for the new dataframe\n",
    "data = []\n",
    "\n",
    "# Fetch and save aerial images for each entry in df with a progress bar\n",
    "for idx, row in tqdm(df.iterrows(), total=len(df), desc=\"Fetching images\"):\n",
    "    lat = row['latitude']\n",
    "    lng = row['longitude']\n",
    "    full_address = row['full_address']\n",
    "    save_path = image_save_path / f'aerial_image_{idx}.png'\n",
    "    image_path = get_aerial_image(lat, lng, zoom_level, api_key, save_path)\n",
    "    if image_path:\n",
    "        data.append({\n",
    "            'full_address': full_address,\n",
    "            'latitude': lat,\n",
    "            'longitude': lng,\n",
    "            'image_path': str(image_path),\n",
    "        })\n",
    "\n",
    "# Create the new dataframe\n",
    "new_df = pd.DataFrame(data)\n",
    "\n",
    "# Save the new dataframe to a CSV file\n",
    "new_df.to_csv(data_path / 'aerial_images_metadata1.csv', index=False)\n",
    "\n",
    "print(\"New dataframe saved to aerial_images_metadata.csv\")"
   ]
  },
  {
   "cell_type": "code",
   "execution_count": 20,
   "metadata": {},
   "outputs": [
    {
     "name": "stdout",
     "output_type": "stream",
     "text": [
      "Input DataFrame (df):\n",
      "                                    full_address   latitude  longitude\n",
      "0  Menno ter Braakstraat 120, 3076 EJ, rotterdam  51.875350   4.518130\n",
      "1    Schiebroeksestraat 12 A, 3037 RV, rotterdam  51.938222   4.475345\n",
      "2    Graaf Balderikstraat 44, 3032 HC, rotterdam  51.926685   4.482866\n",
      "3          Beukelsdijk 110 B, 3022 DK, rotterdam  51.920571   4.452607\n",
      "4               Westplein 89, 3016 BM, rotterdam  51.909052   4.478779\n",
      "\n",
      "Output DataFrame (new_df):\n",
      "                                    full_address   latitude  longitude  \\\n",
      "0  Menno ter Braakstraat 120, 3076 EJ, rotterdam  51.875350   4.518130   \n",
      "1    Schiebroeksestraat 12 A, 3037 RV, rotterdam  51.938222   4.475345   \n",
      "2    Graaf Balderikstraat 44, 3032 HC, rotterdam  51.926685   4.482866   \n",
      "3          Beukelsdijk 110 B, 3022 DK, rotterdam  51.920571   4.452607   \n",
      "4               Westplein 89, 3016 BM, rotterdam  51.909052   4.478779   \n",
      "\n",
      "                                          image_path  \n",
      "0  /Users/wolff/Desktop/delft_download/data/Rotte...  \n",
      "1  /Users/wolff/Desktop/delft_download/data/Rotte...  \n",
      "2  /Users/wolff/Desktop/delft_download/data/Rotte...  \n",
      "3  /Users/wolff/Desktop/delft_download/data/Rotte...  \n",
      "4  /Users/wolff/Desktop/delft_download/data/Rotte...  \n",
      "\n",
      "Comparison DataFrame:\n",
      "                                    full_address   latitude  longitude  \\\n",
      "0  Menno ter Braakstraat 120, 3076 EJ, rotterdam  51.875350   4.518130   \n",
      "1    Schiebroeksestraat 12 A, 3037 RV, rotterdam  51.938222   4.475345   \n",
      "2    Graaf Balderikstraat 44, 3032 HC, rotterdam  51.926685   4.482866   \n",
      "3          Beukelsdijk 110 B, 3022 DK, rotterdam  51.920571   4.452607   \n",
      "4               Westplein 89, 3016 BM, rotterdam  51.909052   4.478779   \n",
      "\n",
      "                                          image_path  \n",
      "0  /Users/wolff/Desktop/delft_download/data/Rotte...  \n",
      "1  /Users/wolff/Desktop/delft_download/data/Rotte...  \n",
      "2  /Users/wolff/Desktop/delft_download/data/Rotte...  \n",
      "3  /Users/wolff/Desktop/delft_download/data/Rotte...  \n",
      "4  /Users/wolff/Desktop/delft_download/data/Rotte...  \n",
      "(6842, 4)\n",
      "(6842, 26)\n",
      "(6842, 4)\n"
     ]
    }
   ],
   "source": [
    "# Display the first few rows of both dataframes to compare\n",
    "print(\"Input DataFrame (df):\")\n",
    "print(df[['full_address', 'latitude', 'longitude']].head())\n",
    "\n",
    "print(\"\\nOutput DataFrame (new_df):\")\n",
    "print(new_df.head())\n",
    "\n",
    "# Merge both dataframes to facilitate comparison\n",
    "comparison_df = df[['full_address', 'latitude', 'longitude']].merge(\n",
    "    new_df, on=['full_address', 'latitude', 'longitude'], how='left'\n",
    ")\n",
    "\n",
    "# Display the merged dataframe to check the comparison\n",
    "print(\"\\nComparison DataFrame:\")\n",
    "print(comparison_df.head())\n",
    "print(comparison_df.shape)\n",
    "print(df.shape)\n",
    "print(new_df.shape)"
   ]
  },
  {
   "cell_type": "code",
   "execution_count": null,
   "metadata": {},
   "outputs": [],
   "source": []
  }
 ],
 "metadata": {
  "kernelspec": {
   "display_name": "venv",
   "language": "python",
   "name": "python3"
  },
  "language_info": {
   "codemirror_mode": {
    "name": "ipython",
    "version": 3
   },
   "file_extension": ".py",
   "mimetype": "text/x-python",
   "name": "python",
   "nbconvert_exporter": "python",
   "pygments_lexer": "ipython3",
   "version": "3.11.8"
  }
 },
 "nbformat": 4,
 "nbformat_minor": 2
}
