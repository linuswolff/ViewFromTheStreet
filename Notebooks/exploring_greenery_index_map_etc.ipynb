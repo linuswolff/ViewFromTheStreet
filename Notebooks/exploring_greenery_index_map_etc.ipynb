{
 "cells": [
  {
   "cell_type": "code",
   "execution_count": 1,
   "metadata": {},
   "outputs": [],
   "source": [
    "# import greenery_index_results_big.csv\n",
    "import pandas as pd\n",
    "import numpy as np\n",
    "import matplotlib.pyplot as plt\n",
    "import seaborn as sns\n",
    "import geopandas as gpd\n",
    "import os\n",
    "import sys\n",
    "from pathlib import Path\n",
    "import folium\n",
    "from folium.plugins import HeatMap"
   ]
  },
  {
   "cell_type": "code",
   "execution_count": null,
   "metadata": {},
   "outputs": [],
   "source": [
    "data_path = Path('~/Desktop/delft_download/data/Rotterdam_NL')\n",
    "panoids = gpd.read_file(data_path / 'panoids/panoids.geojson')\n",
    "print(f\"Loaded panoids data with {len(panoids)} entries.\")\n",
    "\n",
    "# Load the data\n",
    "data = pd.read_csv('../Data/greenery_index_results_big.csv')\n",
    "data['Greenery_Index'] = data['Greenery_Index'].str.strip('[]').astype(float)\n",
    "# Check the first few rows \"Image_Name\" (data) and \n",
    "data.head()"
   ]
  },
  {
   "cell_type": "code",
   "execution_count": null,
   "metadata": {},
   "outputs": [],
   "source": [
    "# Create a column to preserve the original order of panoids\n",
    "panoids['original_index'] = panoids.index\n",
    "\n",
    "# Melt the DataFrame to get one row per image\n",
    "df_melted = panoids.melt(\n",
    "    id_vars=['panoid', 'year', 'month', 'owner', 'lat', 'lng', 'ask_lng', 'ask_lat', 'consulted', 'dist', 'angle', 'geometry', 'original_index'],\n",
    "    value_vars=['im_side_a', 'im_front', 'im_side_b', 'im_back'],\n",
    "    var_name='image_type',\n",
    "    value_name='image_name'\n",
    ")\n",
    "\n",
    "# Create a column for sorting by the original order within each panoid\n",
    "df_melted['order'] = df_melted['image_type'].map({\n",
    "    'im_side_a': 0, 'im_front': 1, 'im_side_b': 2, 'im_back': 3\n",
    "})\n",
    "\n",
    "# Sort the DataFrame by the original index of panoids and the new order column\n",
    "df_melted = df_melted.sort_values(by=['original_index', 'order']).drop(columns=['original_index', 'order']).reset_index(drop=True)\n",
    "\n",
    "# Check the transformed and sorted DataFrame\n",
    "df_melted.head()\n"
   ]
  },
  {
   "cell_type": "code",
   "execution_count": null,
   "metadata": {},
   "outputs": [],
   "source": [
    "# join the data with the panoids on Image_Name (data) and image_name (panoids) columns\n",
    "# make sure to only keep one panoid column and one image_name column\n",
    "df = pd.merge(data, df_melted, left_on='Image_Name', right_on='image_name', how='inner').drop(columns=['Image_Name', 'panoid_y'])\n",
    "df = df.rename(columns={'panoid_x': 'panoid'})\n",
    "\n",
    "df.head()"
   ]
  },
  {
   "cell_type": "code",
   "execution_count": null,
   "metadata": {},
   "outputs": [],
   "source": [
    "df.year.value_counts()"
   ]
  },
  {
   "cell_type": "code",
   "execution_count": null,
   "metadata": {},
   "outputs": [],
   "source": [
    "import matplotlib.cm as cm\n",
    "import matplotlib.colors as colors\n",
    "\n",
    "# Normalize Greenery_Index for color scaling\n",
    "norm = colors.Normalize(vmin=df['Greenery_Index'].min(), vmax=df['Greenery_Index'].max())\n",
    "colormap = cm.ScalarMappable(norm=norm, cmap='YlGn')\n",
    "\n",
    "# Initialize the map centered around the mean latitude and longitude\n",
    "map_center = [df['lat'].mean(), df['lng'].mean()]\n",
    "m = folium.Map(location=map_center, zoom_start=12)\n",
    "\n",
    "# Add circle markers to the map\n",
    "for _, row in df.iterrows():\n",
    "    folium.CircleMarker(\n",
    "        location=(row['lat'], row['lng']),\n",
    "        radius=row['Greenery_Index'] * 10,  # Scale radius\n",
    "        color=colors.to_hex(colormap.to_rgba(row['Greenery_Index'])),\n",
    "        fill=True,\n",
    "        fill_color=colors.to_hex(colormap.to_rgba(row['Greenery_Index'])),\n",
    "        fill_opacity=0.7,\n",
    "        popup=f'Greenery Index: {row[\"Greenery_Index\"]}'\n",
    "    ).add_to(m)\n",
    "\n",
    "# Save and display the map\n",
    "m.save(\"greenery_circle_markers.html\")\n",
    "\n",
    "# If running in a Jupyter Notebook, display the map inline\n",
    "m"
   ]
  }
 ],
 "metadata": {
  "kernelspec": {
   "display_name": "venv",
   "language": "python",
   "name": "python3"
  },
  "language_info": {
   "codemirror_mode": {
    "name": "ipython",
    "version": 3
   },
   "file_extension": ".py",
   "mimetype": "text/x-python",
   "name": "python",
   "nbconvert_exporter": "python",
   "pygments_lexer": "ipython3",
   "version": "3.11.8"
  }
 },
 "nbformat": 4,
 "nbformat_minor": 2
}
