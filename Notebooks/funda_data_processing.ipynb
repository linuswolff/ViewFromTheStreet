{
 "cells": [
  {
   "cell_type": "markdown",
   "metadata": {},
   "source": [
    "#### Setup"
   ]
  },
  {
   "cell_type": "code",
   "execution_count": 1,
   "metadata": {},
   "outputs": [],
   "source": [
    "import pandas as pd\n",
    "import funda_data_processing_functions as fdp\n",
    "from tqdm import tqdm\n",
    "import matplotlib.pyplot as plt\n",
    "import googlemaps\n",
    "import folium\n",
    "from datetime import datetime\n",
    "\n",
    "from config import google_api_key\n",
    "gmaps = googlemaps.Client(key = google_api_key)\n",
    "\n",
    "raw_data = pd.read_csv('no_duplicates.csv')"
   ]
  },
  {
   "cell_type": "markdown",
   "metadata": {},
   "source": [
    "#### General Preprocessing"
   ]
  },
  {
   "cell_type": "code",
   "execution_count": null,
   "metadata": {},
   "outputs": [],
   "source": [
    "# Preprocess the data\n",
    "df = fdp.preprocess_data(raw_data, is_past=True)\n",
    "df.shape"
   ]
  },
  {
   "cell_type": "markdown",
   "metadata": {},
   "source": [
    "#### Geocoding using Google Maps API (Address ---> Coordinates)"
   ]
  },
  {
   "cell_type": "code",
   "execution_count": null,
   "metadata": {},
   "outputs": [],
   "source": [
    "# If true, all, if false, only the NaNs will be geocoded\n",
    "#df = df[:50] # for testing on less data\n",
    "df = fdp.geocode_addresses(df, geocode_all=True)"
   ]
  },
  {
   "cell_type": "code",
   "execution_count": 15,
   "metadata": {},
   "outputs": [],
   "source": [
    "# drop the rows with NaNs\n",
    "df = df.dropna(subset=['latitude', 'longitude'])"
   ]
  },
  {
   "cell_type": "markdown",
   "metadata": {},
   "source": [
    "##### Add biking time to city center\n",
    "*Could easily be adapted to walking or driving times by changing the `mode` in the function.*"
   ]
  },
  {
   "cell_type": "code",
   "execution_count": null,
   "metadata": {},
   "outputs": [],
   "source": [
    "df = fdp.add_biking_time(df, calculate_for_missing_only=True)"
   ]
  },
  {
   "cell_type": "markdown",
   "metadata": {},
   "source": [
    "#### Listings as Points on a Map"
   ]
  },
  {
   "cell_type": "code",
   "execution_count": null,
   "metadata": {},
   "outputs": [],
   "source": [
    "# All Listings with extra info on click\n",
    "\n",
    "# Create a base map centered on the approximate center of your data\n",
    "f = folium.Figure(width=900, height=400)\n",
    "\n",
    "m = folium.Map(location=[df['latitude'].mean(), df['longitude'].mean()],\n",
    "               zoom_start=12, tiles='CartoDB Voyager').add_to(f)\n",
    "\n",
    "# Add markers for each set of coordinates with popup for biking time\n",
    "for idx, row in df.iterrows():\n",
    "    # Prepare the popup text\n",
    "    popup_html = f\"\"\"\n",
    "    <strong>Biking Time:</strong> {round(row['biking_time'])} minutes<br>\n",
    "    <strong>Price Sold:</strong> {row['price_sold']}€\n",
    "    \"\"\"\n",
    "    popup = folium.Popup(popup_html, parse_html=False)\n",
    "    \n",
    "    folium.Circle([row['latitude'], row['longitude']],\n",
    "                  radius=1,\n",
    "                  weight=4,\n",
    "                  color='darkblue',\n",
    "                  popup=popup).add_to(m)\n",
    "\n",
    "# Display the map\n",
    "m"
   ]
  },
  {
   "cell_type": "markdown",
   "metadata": {},
   "source": [
    "**Further, more specific processing**"
   ]
  },
  {
   "cell_type": "markdown",
   "metadata": {},
   "source": [
    "Converting to categoricals"
   ]
  },
  {
   "cell_type": "code",
   "execution_count": null,
   "metadata": {},
   "outputs": [],
   "source": [
    "df.columns"
   ]
  },
  {
   "cell_type": "code",
   "execution_count": 5,
   "metadata": {},
   "outputs": [],
   "source": [
    "columns_to_delete = ['price', 'listed_since', 'zip_code', 'size', 'year', 'kind_of_house', 'num_of_rooms', 'num_of_bathrooms', 'layout', 'ownership', 'exteriors', 'date_list', 'term', 'last_ask_price', 'last_ask_price_m2', 'log_id']\n",
    "df_reduced = df.drop(columns=columns_to_delete)"
   ]
  },
  {
   "cell_type": "code",
   "execution_count": null,
   "metadata": {},
   "outputs": [],
   "source": [
    "df_reduced.columns"
   ]
  },
  {
   "cell_type": "markdown",
   "metadata": {},
   "source": [
    "**Categoricals with correct Reference Levels**"
   ]
  },
  {
   "cell_type": "code",
   "execution_count": 7,
   "metadata": {},
   "outputs": [],
   "source": [
    "df_reduced['building_type'] = df_reduced['building_type'].astype('category')\n",
    "df_reduced['building_type'] = df_reduced['building_type'].cat.set_categories(['Bestaande bouw', 'Nieuwbouw'])\n",
    "\n",
    "df_reduced['energy_label'] = df_reduced['energy_label'].astype('category')\n",
    "df_reduced['energy_label'] = df_reduced['energy_label'].cat.set_categories(['C', '>A+', 'A', 'B', 'D', 'E', 'F', 'G'])\n",
    "\n",
    "df_reduced['house_type'] = df_reduced['house_type'].astype('category')\n",
    "df_reduced['house_type'] = df_reduced['house_type'].cat.set_categories(['appartement', 'huis'])"
   ]
  },
  {
   "cell_type": "code",
   "execution_count": null,
   "metadata": {},
   "outputs": [],
   "source": [
    "df_reduced.energy_label.value_counts()"
   ]
  },
  {
   "cell_type": "markdown",
   "metadata": {},
   "source": [
    "#### Export to CSV"
   ]
  },
  {
   "cell_type": "code",
   "execution_count": 9,
   "metadata": {},
   "outputs": [],
   "source": [
    "df_reduced.to_csv('funda_all_cleaned_may_23.csv', index=False)"
   ]
  }
 ],
 "metadata": {
  "kernelspec": {
   "display_name": "venv",
   "language": "python",
   "name": "python3"
  },
  "language_info": {
   "codemirror_mode": {
    "name": "ipython",
    "version": 3
   },
   "file_extension": ".py",
   "mimetype": "text/x-python",
   "name": "python",
   "nbconvert_exporter": "python",
   "pygments_lexer": "ipython3",
   "version": "3.11.8"
  }
 },
 "nbformat": 4,
 "nbformat_minor": 2
}
