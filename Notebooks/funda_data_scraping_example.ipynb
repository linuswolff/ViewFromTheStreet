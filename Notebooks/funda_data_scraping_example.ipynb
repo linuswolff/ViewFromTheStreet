{
 "cells": [
  {
   "cell_type": "code",
   "execution_count": 1,
   "metadata": {},
   "outputs": [],
   "source": [
    "import pandas as pd\n",
    "from funda_scraper import FundaScraper\n",
    "import time"
   ]
  },
  {
   "cell_type": "code",
   "execution_count": 7,
   "metadata": {},
   "outputs": [],
   "source": [
    "# Initialize parameters\n",
    "area = \"rotterdam\"\n",
    "want_to = \"buy\"\n",
    "find_past = True\n",
    "first_page = 1\n",
    "last_page = 400 # Total pages you want to scrape # 384\n",
    "pages_per_run = 10  # Pages to scrape in each run # 40\n",
    "delay_seconds = 20  # Delay between each request in seconds"
   ]
  },
  {
   "cell_type": "code",
   "execution_count": null,
   "metadata": {},
   "outputs": [],
   "source": [
    "# Initialize an empty DataFrame to store the results\n",
    "complete_df = pd.DataFrame()\n",
    "\n",
    "# Loop through the page ranges\n",
    "for start_page in range(first_page, last_page + 1, pages_per_run):\n",
    "    end_page = start_page + pages_per_run - 1\n",
    "    if end_page > last_page:\n",
    "        end_page = last_page\n",
    "    n_pages = end_page - start_page + 1\n",
    "    \n",
    "    # Initialize the scraper for the current segment\n",
    "    scraper = FundaScraper(area=area, want_to=want_to, find_past=find_past, page_start=start_page, n_pages=n_pages)\n",
    "    \n",
    "    # Scrape data and append to the complete DataFrame\n",
    "    df = scraper.run(raw_data=True, save=False)\n",
    "    complete_df = pd.concat([complete_df, df], ignore_index=True)\n",
    "\n",
    "    # Pause for a specified amount of time before the next iteration\n",
    "    print(f\"Pausing for {delay_seconds} seconds to avoid rate-limiting.\")\n",
    "    time.sleep(delay_seconds)\n",
    "\n",
    "# Save the complete DataFrame to CSV\n",
    "complete_df.to_csv(\"complete_housing_listings.csv\", index=False)"
   ]
  },
  {
   "cell_type": "code",
   "execution_count": null,
   "metadata": {},
   "outputs": [],
   "source": [
    "complete_df.shape"
   ]
  },
  {
   "cell_type": "code",
   "execution_count": null,
   "metadata": {},
   "outputs": [],
   "source": [
    "# check for missing values in address\n",
    "(complete_df['address'] == 'na').sum()\n"
   ]
  },
  {
   "cell_type": "code",
   "execution_count": 12,
   "metadata": {},
   "outputs": [],
   "source": [
    "# Remove rows with missing address\n",
    "complete_df = complete_df[complete_df['address'] != 'na']"
   ]
  },
  {
   "cell_type": "code",
   "execution_count": null,
   "metadata": {},
   "outputs": [],
   "source": [
    "# check for duplicates\n",
    "complete_df.duplicated().sum()"
   ]
  }
 ],
 "metadata": {
  "kernelspec": {
   "display_name": "venv",
   "language": "python",
   "name": "python3"
  },
  "language_info": {
   "codemirror_mode": {
    "name": "ipython",
    "version": 3
   },
   "file_extension": ".py",
   "mimetype": "text/x-python",
   "name": "python",
   "nbconvert_exporter": "python",
   "pygments_lexer": "ipython3",
   "version": "3.11.8"
  }
 },
 "nbformat": 4,
 "nbformat_minor": 2
}
